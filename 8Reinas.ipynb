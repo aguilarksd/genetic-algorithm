{
  "nbformat": 4,
  "nbformat_minor": 0,
  "metadata": {
    "colab": {
      "provenance": []
    },
    "kernelspec": {
      "name": "python3",
      "display_name": "Python 3"
    },
    "language_info": {
      "name": "python"
    }
  },
  "cells": [
    {
      "cell_type": "markdown",
      "source": [
        "**Instalar DEAP**"
      ],
      "metadata": {
        "id": "XmhKjc_VKR_M"
      }
    },
    {
      "cell_type": "code",
      "source": [
        "!pip install deap"
      ],
      "metadata": {
        "colab": {
          "base_uri": "https://localhost:8080/"
        },
        "id": "ESkoBKfWKXns",
        "outputId": "0a223cf4-ba15-4a60-8ecd-fdaf9c21d41c"
      },
      "execution_count": null,
      "outputs": [
        {
          "output_type": "stream",
          "name": "stdout",
          "text": [
            "Requirement already satisfied: deap in /usr/local/lib/python3.7/dist-packages (1.3.1)\n",
            "Requirement already satisfied: numpy in /usr/local/lib/python3.7/dist-packages (from deap) (1.19.5)\n"
          ]
        }
      ]
    },
    {
      "cell_type": "code",
      "execution_count": null,
      "metadata": {
        "id": "z5xTH5oBJNxj"
      },
      "outputs": [],
      "source": [
        "import array\n",
        "import random\n",
        "import json\n",
        "import numpy\n",
        "from deap import algorithms, base, creator, tools"
      ]
    },
    {
      "cell_type": "code",
      "source": [
        "\n",
        "IND_SIZE = 8\n",
        "print('Número reinas: ',IND_SIZE)"
      ],
      "metadata": {
        "colab": {
          "base_uri": "https://localhost:8080/"
        },
        "id": "reC8as7zKqDZ",
        "outputId": "cc4c942d-3013-4659-9f14-53915ac9cf06"
      },
      "execution_count": null,
      "outputs": [
        {
          "output_type": "stream",
          "name": "stdout",
          "text": [
            "Número reinas:  8\n"
          ]
        }
      ]
    },
    {
      "cell_type": "markdown",
      "source": [
        "**Crear individuos**"
      ],
      "metadata": {
        "id": "3WYe8a4dMyn6"
      }
    },
    {
      "cell_type": "code",
      "source": [
        "creator.create(\"FitnessM\", base.Fitness, weights=(-1.0,))\n",
        "creator.create(\"Individuo\", array.array, typecode='i', fitness=creator.FitnessM) # Type i: int (min. 2 bytes)"
      ],
      "metadata": {
        "id": "lxNCIRZEKqXR"
      },
      "execution_count": null,
      "outputs": []
    },
    {
      "cell_type": "markdown",
      "source": [
        "**Registrar toolbox**"
      ],
      "metadata": {
        "id": "InKe5MBUNf3l"
      }
    },
    {
      "cell_type": "code",
      "source": [
        "toolbox = base.Toolbox()\n",
        "\n",
        "# Generador aleatorio\n",
        "toolbox.register(\"indices\", random.sample, range(IND_SIZE), IND_SIZE)\n",
        "\n",
        "# Inicializador de estructuras\n",
        "toolbox.register(\"individual\", tools.initIterate, creator.Individuo, toolbox.indices)\n",
        "toolbox.register(\"population\", tools.initRepeat, list, toolbox.individual)"
      ],
      "metadata": {
        "id": "RPPoKsyHKqj8"
      },
      "execution_count": null,
      "outputs": []
    },
    {
      "cell_type": "markdown",
      "source": [
        "**Evaluación**"
      ],
      "metadata": {
        "id": "CYBIw_U4OJRB"
      }
    },
    {
      "cell_type": "code",
      "source": [
        "def evalEQ(individual):\n",
        "    amenazas = 0\n",
        "    for x in range(8):\n",
        "      for i in range((x+1),8):\n",
        "        y=individual[x]\n",
        "        j=individual[i]\n",
        "        if y == j:\n",
        "          amenazas+=1\n",
        "        elif (x-y == i-j) or (x+y == i+j):\n",
        "          amenazas+=1\n",
        "        elif (y-j == x-i) or (y-j == i-x):\n",
        "          amenazas+=1\n",
        "    return amenazas,"
      ],
      "metadata": {
        "id": "-ryadvUHKqw2"
      },
      "execution_count": null,
      "outputs": []
    },
    {
      "cell_type": "markdown",
      "source": [
        "**Registrar las etapas del ciclo evolutivo**"
      ],
      "metadata": {
        "id": "_EgYa8rHPFTD"
      }
    },
    {
      "cell_type": "code",
      "source": [
        "toolbox.register(\"mate\", tools.cxPartialyMatched)\n",
        "toolbox.register(\"mutate\", tools.mutShuffleIndexes, indpb=0.05) # Probabilidad de cada elemento de ser cambiado\n",
        "toolbox.register(\"select\", tools.selTournament, tournsize=3)\n",
        "toolbox.register(\"evaluate\", evalEQ)"
      ],
      "metadata": {
        "id": "CWQutWX6KrA9"
      },
      "execution_count": null,
      "outputs": []
    },
    {
      "cell_type": "markdown",
      "source": [
        "**Main**"
      ],
      "metadata": {
        "id": "FIEnaJhYPKJZ"
      }
    },
    {
      "cell_type": "code",
      "source": [
        "def main():\n",
        "    random.seed(250)\n",
        "\n",
        "    pop = toolbox.population(n=10)\n",
        "    hof = tools.HallOfFame(1)\n",
        "\n",
        "    stats = tools.Statistics(lambda ind: ind.fitness.values)\n",
        "    stats.register(\"avg\", numpy.mean)\n",
        "    stats.register(\"std\", numpy.std)\n",
        "    stats.register(\"min\", numpy.min)\n",
        "    stats.register(\"max\", numpy.max)\n",
        "\n",
        "    algorithms.eaSimple(pop, toolbox, 0.7, 0.2, 40, stats=stats,\n",
        "                        halloffame=hof)\n",
        "\n",
        "    return pop, stats, hof\n",
        "\n",
        "if __name__ == \"__main__\":\n",
        "    pop, stats, hof = main()"
      ],
      "metadata": {
        "id": "RqvWBhF6KrMx",
        "colab": {
          "base_uri": "https://localhost:8080/"
        },
        "outputId": "ffd9d9bc-4e5a-4179-d50c-c18467902210"
      },
      "execution_count": null,
      "outputs": [
        {
          "output_type": "stream",
          "name": "stdout",
          "text": [
            "gen\tnevals\tavg\tstd    \tmin\tmax\n",
            "0  \t10    \t4.5\t1.68819\t2  \t8  \n",
            "1  \t9     \t3.5\t1.43178\t2  \t6  \n",
            "2  \t5     \t2.5\t1.36015\t1  \t6  \n",
            "3  \t7     \t1.7\t0.640312\t1  \t3  \n",
            "4  \t8     \t1.9\t1.13578 \t1  \t5  \n",
            "5  \t6     \t1.1\t0.3     \t1  \t2  \n",
            "6  \t9     \t1.2\t0.6     \t1  \t3  \n",
            "7  \t9     \t1.5\t1.0247  \t1  \t4  \n",
            "8  \t8     \t1.3\t0.640312\t1  \t3  \n",
            "9  \t7     \t1  \t0       \t1  \t1  \n",
            "10 \t8     \t1  \t0       \t1  \t1  \n",
            "11 \t7     \t1  \t0       \t1  \t1  \n",
            "12 \t8     \t1  \t0       \t1  \t1  \n",
            "13 \t8     \t1.2\t0.6     \t1  \t3  \n",
            "14 \t6     \t1.5\t1.5     \t1  \t6  \n",
            "15 \t10    \t1.2\t0.6     \t1  \t3  \n",
            "16 \t8     \t1  \t0       \t1  \t1  \n",
            "17 \t10    \t1  \t0       \t1  \t1  \n",
            "18 \t8     \t1  \t0       \t1  \t1  \n",
            "19 \t6     \t1.2\t0.6     \t1  \t3  \n",
            "20 \t3     \t1  \t0       \t1  \t1  \n",
            "21 \t6     \t1.5\t1.0247  \t1  \t4  \n",
            "22 \t8     \t1  \t0       \t1  \t1  \n",
            "23 \t6     \t1  \t0       \t1  \t1  \n",
            "24 \t8     \t1  \t0       \t1  \t1  \n",
            "25 \t9     \t1  \t0       \t1  \t1  \n",
            "26 \t8     \t1.1\t0.7     \t0  \t3  \n",
            "27 \t10    \t1.1\t0.830662\t0  \t3  \n",
            "28 \t8     \t0.7\t0.458258\t0  \t1  \n",
            "29 \t7     \t0.5\t0.921954\t0  \t3  \n",
            "30 \t5     \t0.5\t0.921954\t0  \t3  \n",
            "31 \t9     \t0  \t0       \t0  \t0  \n",
            "32 \t6     \t0  \t0       \t0  \t0  \n",
            "33 \t7     \t0  \t0       \t0  \t0  \n",
            "34 \t8     \t0.2\t0.6     \t0  \t2  \n",
            "35 \t3     \t0  \t0       \t0  \t0  \n",
            "36 \t8     \t0  \t0       \t0  \t0  \n",
            "37 \t8     \t0.3\t0.9     \t0  \t3  \n",
            "38 \t7     \t0  \t0       \t0  \t0  \n",
            "39 \t10    \t0.5\t1.0247  \t0  \t3  \n",
            "40 \t10    \t0  \t0       \t0  \t0  \n"
          ]
        }
      ]
    },
    {
      "cell_type": "code",
      "source": [
        "print(hof)"
      ],
      "metadata": {
        "colab": {
          "base_uri": "https://localhost:8080/"
        },
        "id": "-V89T-ImPiDk",
        "outputId": "09e39c9d-4909-467c-c1ff-98e67072a424"
      },
      "execution_count": null,
      "outputs": [
        {
          "output_type": "stream",
          "name": "stdout",
          "text": [
            "[Individuo('i', [4, 0, 7, 3, 1, 6, 2, 5])]\n"
          ]
        }
      ]
    }
  ]
}